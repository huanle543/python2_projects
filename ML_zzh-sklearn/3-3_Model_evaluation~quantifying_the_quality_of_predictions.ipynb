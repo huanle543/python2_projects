{
 "cells": [
  {
   "cell_type": "markdown",
   "metadata": {},
   "source": [
    "# 3.3. Model evaluation: quantifying the quality of predictions\n",
    "\n",
    "有三种不同的方法来评估模型预测的质量：\n",
    "* **Estimator score method**: **Estimators**的*score*方法提供了默认的评估准则。\n",
    "* **Scoring parameter**: 模型评估工具使用的cv（如model_selection.cross_val_score和model_selection.GridSearchCV)依赖内部的*scoring*方法。\n",
    "* **Metric functions**: **Metrics**模块为了特定的目的实现了评估预测误差的函数。\n",
    "\n",
    "最后，**Dummy estimators** 对得到这些metrics随机预测的基准值很有用。\n",
    "\n",
    "## 3.3.1 The *scoring* parameter:defining model evaluation rules\n",
    "\n",
    "模型选择和评估使用的工具，如*model_selection.cross_val_score*和*model_selection.GridSearchCV*，采用*scoring*参数来控制将哪个matric应用到评估的estimators上。\n",
    "\n",
    "### 3.3.1.1 Common cases:predifined values\n",
    "\n",
    "对最常用的情况来说，可以设计一个带有*scoring*参数的scorer目标；下面的表展示了所有可能的值。所有的scorer目标遵循**高返回值优于低返回值**的惯例。因此，度量模型和数据之间距离的metrics，如*metrics.mean_squared_error*是可用的因为neg_mean_squared_error返回metric的负值。\n",
    "\n",
    "|Scoring|\tFunction\t|Comment|\n",
    "|-------|:------:|:---------:|\n",
    "|**Classification**\t| | | \t \n",
    "|‘accuracy’|\tmetrics.accuracy_score\t | |\n",
    "|‘average_precision’|\tmetrics.average_precision_score\t| | \n",
    "|‘f1’|\tmetrics.f1_score|\tfor binary targets|\n",
    "|‘f1_micro’\t|metrics.f1_score\t|micro-averaged|\n",
    "|‘f1_macro’|\tmetrics.f1_score|\tmacro-averaged|\n",
    "|‘f1_weighted’|\tmetrics.f1_score\t|weighted average|\n",
    "|‘f1_samples’|\tmetrics.f1_score\t|by multilabel sample|\n",
    "|‘neg_log_loss’|\tmetrics.log_loss\t|requires predict_proba support|\n",
    "|‘precision’ etc.|\tmetrics.precision_score\t|suffixes apply as with ‘f1’|\n",
    "|‘recall’ etc.|\tmetrics.recall_score|\tsuffixes apply as with ‘f1’|\n",
    "|‘roc_auc’|\tmetrics.roc_auc_score\t| | \n",
    "|**Clustering**\t| \t | |\n",
    "|‘adjusted_rand_score’|\tmetrics.adjusted_rand_score\t | |\n",
    "|**Regression\t **\t | | |\n",
    "|‘neg_mean_absolute_error’|\tmetrics.mean_absolute_error\t | |\n",
    "|‘neg_mean_squared_error’|\tmetrics.mean_squared_error\t| | \n",
    "|‘neg_median_absolute_error’|\tmetrics.median_absolute_error| |\t \n",
    "|‘r2’|\tmetrics.r2_score| |\n",
    "\n",
    "示例："
   ]
  },
  {
   "cell_type": "code",
   "execution_count": 1,
   "metadata": {
    "collapsed": false
   },
   "outputs": [
    {
     "data": {
      "text/plain": [
       "array([-0.0757138 , -0.16816241, -0.07091847])"
      ]
     },
     "execution_count": 1,
     "metadata": {},
     "output_type": "execute_result"
    }
   ],
   "source": [
    "from sklearn import svm,datasets\n",
    "from sklearn.model_selection import cross_val_score\n",
    "iris=datasets.load_iris()\n",
    "X,y=iris.data,iris.target\n",
    "clf=svm.SVC(probability=True,random_state=0)\n",
    "cross_val_score(clf,X,y,scoring='neg_log_loss')"
   ]
  },
  {
   "cell_type": "markdown",
   "metadata": {},
   "source": [
    "### 3.3.1.2 Defining your scoring strategy from metric functions\n",
    "\n",
    "**sklearn.metric**模块提出了一系列简单的函数来测量预测误差。\n",
    "* 以**_score**结尾的函数返回最大值，越大越好。\n",
    "* 以**_error**或**_loss**结尾的函数返回最小值，越小越好。用**make_scorer**转换成scorer目标时，将**great_is_better**参数设成*False*（默认的是True）。\n",
    "\n",
    "很多metrics作为*scoring*值时没有给定名字，有时候是因为他们需要额外的参数，如**fbeta_score**。在这种情况，需要产生一个合适的scoring目标。这个函数将metrics变成可调用的以用来模型评估。\n",
    "\n",
    "一个典型的例子是从库中包含现有的metric函数，其参数为非默认值，如**fbeta_score**函数中的**beta**参数。"
   ]
  },
  {
   "cell_type": "code",
   "execution_count": 2,
   "metadata": {
    "collapsed": true
   },
   "outputs": [],
   "source": [
    "from sklearn.metrics import fbeta_score,make_scorer\n",
    "ftwo_scorer=make_scorer(fbeta_score,beta=2)\n",
    "from sklearn.model_selection import GridSearchCV\n",
    "from sklearn.svm import LinearSVC\n",
    "grid=GridSearchCV(LinearSVC(),param_grid={'C':[1,10]},scoring=ftwo_scorer)"
   ]
  },
  {
   "cell_type": "markdown",
   "metadata": {},
   "source": [
    "第二个例子是用*make_scorer*从一个简单的python函数构建一个完全自定义的scorer目标，可以采用很多个参数：\n",
    "* 想要用的python函数（如下面的*my_custom_loss_func*)\n",
    "* 函数返回的是score（*greater_is_better=True*，默认）或者loss（*greater_is_better=False*）。如果是loss，函数的输出被scorer目标取负值。\n",
    "* 只对分类的metrics：函数是否需要连续的确定性边界（**needs_threshold=True**),默认值是False。\n",
    "* 任意额外的参数，例如**f1_score**中的*beta*或*labels*。"
   ]
  },
  {
   "cell_type": "code",
   "execution_count": 3,
   "metadata": {
    "collapsed": false
   },
   "outputs": [
    {
     "data": {
      "text/plain": [
       "-0.69314718055994529"
      ]
     },
     "execution_count": 3,
     "metadata": {},
     "output_type": "execute_result"
    }
   ],
   "source": [
    "import numpy as np\n",
    "def my_custom_loss_func(ground_truth,predictions):\n",
    "    diff=np.abs(ground_truth-predictions).max()\n",
    "    return np.log(1+diff)\n",
    "\n",
    "# loss_func will negate the return value of my_custom_loss_func,\n",
    "#  which will be np.log(2), 0.693, given the values for ground_truth\n",
    "#  and predictions defined below.\n",
    "loss =make_scorer(my_custom_loss_func,greater_is_better=False)\n",
    "score=make_scorer(my_custom_loss_func,greater_is_better=True)\n",
    "ground_truth=[[1,1]]\n",
    "predictions=[0,1]\n",
    "from sklearn.dummy import DummyClassifier\n",
    "clf=DummyClassifier(strategy='most_frequent',random_state=0)\n",
    "clf=clf.fit(ground_truth,predictions)\n",
    "loss(clf,ground_truth,predictions)"
   ]
  },
  {
   "cell_type": "code",
   "execution_count": 4,
   "metadata": {
    "collapsed": false
   },
   "outputs": [
    {
     "data": {
      "text/plain": [
       "0.69314718055994529"
      ]
     },
     "execution_count": 4,
     "metadata": {},
     "output_type": "execute_result"
    }
   ],
   "source": [
    "score(clf,ground_truth,predictions)"
   ]
  },
  {
   "cell_type": "markdown",
   "metadata": {},
   "source": [
    "### 3.3.1.3 Implementing your own scoring object\n",
    "\n",
    "通过从头创建自己的scoring目标不使用**make_scorer**，可以产生更自由的目标scorer。需要满足以下两个规则指定的协议：\n",
    "* 可以通过参数（estimator,X,y)被调用，其中*estimator*是要被评估的模型，*X*是数据，*y*是*X*的目标值（对于监督学习）或者*None*（非监督学习）。\n",
    "* 返回estimator对与*y*相关的*X*的评估质量---浮点数。默认值越大越好，如果scorer返回loss，值需要取负数。\n",
    "\n",
    "## 3.3.2 Classification matrics\n",
    "\n",
    "**sklearn.metrics**模块提供了很多测量分类表现的loss，score函数。有些metrics可能需要正例/置信度/二分值的可能性评估。大部分都允许每个样本对整体score提供一个加权的贡献，通过**sample_weight**参数。\n",
    "\n",
    "### 3.3.2.1 From binary to multiclass and multilabel\n",
    "\n",
    "一些metrics基本是为二分类任务定义的（如**f1_score**,**roc_auc_score**)。在这种情况下，默认时只有正标签被评估，假设默认正例被标为1。\n",
    "\n",
    "将二分类metric拓展到多分类或多标签问题时，数据被当作二分问题的集合，每一个对应相应的类别。有很多方法来对类别集合的二分类metric计算取均值。可能的话，应该通过**average**参数来选择。\n",
    "* '**macro**'计算二分metrics的均值，每个类别的权重都相等。在少见的类别很重要时，macro平均可能时一种突出表现的手段。另一方面，假设所有类别都一样重要很多情况是错的，所以macro平均会高估少见类别的典型低表现。\n",
    "* '**weighted**'通过每个类别在样本中出现的频率来得到权重，从而在计算二分metrics的均值是考虑类别的不均衡。\n",
    "* '**micro**'认为每个样本类别对整体的metric具有同样的作用。对每个类别metric的股息和除数进行求和得到整个商，而不是对每个类别的metric进行求和。在多标签设置中，micro平均可能是首选的，包括要忽略多数类的多分类。\n",
    "* '**samples**'只应用于多标签问题。它不计算单个类别的度量，而是计算评估值中正类和预测类的metric，返回他们的（**sample_weight**-weight）平均。\n",
    "* **average=None**会返回每个类别的分数array。\n",
    "\n",
    "### Accuracy score\n",
    "\n",
    "**accuracy_score**函数计算准确度--正确预测的比例或者计数（normalize=False)。\n",
    "\n",
    "在多标签分类中，函数返回子集的准确度。如果一个样本预测的标签的整个集合完全匹配标签的真正集合，那么子集的准确度就是1.0，否则是0.0。\n",
    "\n",
    "如果y^\\_i是第i个样本的预测值，y_i是对应的真实值，那么n个样本中预测正确的比例定义为：\n",
    "![accuracy](http://scikit-learn.org/stable/_images/math/cd4bea15b385d15cceb8e24f68976da7d8510290.png)\n",
    "其中，1（x)是指示函数。"
   ]
  },
  {
   "cell_type": "code",
   "execution_count": 5,
   "metadata": {
    "collapsed": false
   },
   "outputs": [
    {
     "data": {
      "text/plain": [
       "0.5"
      ]
     },
     "execution_count": 5,
     "metadata": {},
     "output_type": "execute_result"
    }
   ],
   "source": [
    "import numpy as np\n",
    "from sklearn.metrics import accuracy_score\n",
    "y_pred=[0,2,1,3]\n",
    "y_true=[0,1,2,3]\n",
    "accuracy_score(y_true,y_pred)"
   ]
  },
  {
   "cell_type": "code",
   "execution_count": 6,
   "metadata": {
    "collapsed": false
   },
   "outputs": [
    {
     "data": {
      "text/plain": [
       "2"
      ]
     },
     "execution_count": 6,
     "metadata": {},
     "output_type": "execute_result"
    }
   ],
   "source": [
    "accuracy_score(y_true,y_pred,normalize=False)"
   ]
  },
  {
   "cell_type": "markdown",
   "metadata": {},
   "source": [
    "在二分标签指示的多标签情况下："
   ]
  },
  {
   "cell_type": "code",
   "execution_count": 7,
   "metadata": {
    "collapsed": false
   },
   "outputs": [
    {
     "data": {
      "text/plain": [
       "0.5"
      ]
     },
     "execution_count": 7,
     "metadata": {},
     "output_type": "execute_result"
    }
   ],
   "source": [
    "accuracy_score(np.array([[0,1],[1,1]]),np.ones((2,2)))"
   ]
  },
  {
   "cell_type": "markdown",
   "metadata": {},
   "source": [
    "### 3.3.2.3 Cohen's kappa\n",
    "\n",
    "**cohen_kappa_score**函数计算**Cohen's kappa**。这个方法旨在比较不同人类注释的标签，而不是分类器和真实值。\n",
    "\n",
    "kappa分数在-1和1之间。大于0.8就认为符合很好；0或者低于就不符合。\n",
    "kappa分数可以用来计算二分或多个分类的问题，但不能用于多标签和多于两个注释者的问题。\n",
    "\n",
    "![kappa](https://wikimedia.org/api/rest_v1/media/math/render/svg/d45fc75d4d1a8d672083492fd147f75e8ba374bd)\n",
    "其中P_o是观察吻合的概率，P_e是偶然吻合的概率。\n",
    "对于k个分类，有N个物体，n_ki是第i个评分者预测分类k的次数。\n",
    "![pe](https://wikimedia.org/api/rest_v1/media/math/render/svg/408205fbf33b446ddca56631d529256e98d36066)\n",
    "例：\n",
    "![ex](https://d3dr1ze7164817.cloudfront.net/items/1M2f3k011I1H0e0b250m/Image%202017-04-02%20at%201.38.42%20PM.png?X-CloudApp-Visitor-Id=2737026&v=045639af)\n",
    "\n",
    "![po1](https://wikimedia.org/api/rest_v1/media/math/render/svg/13e1e01bfdb6a280ee496596f72b98e93e4757fb)\n",
    "\n",
    "![pyes](https://wikimedia.org/api/rest_v1/media/math/render/svg/2eee764496580e743b17bf3b84ffedef543623b1)\n",
    "\n",
    "![pno](https://wikimedia.org/api/rest_v1/media/math/render/svg/ca9fa34ea66a2a8f204fa17d705b3d5637796fa3)\n",
    "\n",
    "![pee](https://wikimedia.org/api/rest_v1/media/math/render/svg/ea11f70a3b9422816c7d7ff2f7e32bf4f1ca464c)\n",
    "\n",
    "![kappa](https://wikimedia.org/api/rest_v1/media/math/render/svg/6ad837b8e9b0e106226463189d006b8dd2d5ccfc)"
   ]
  },
  {
   "cell_type": "code",
   "execution_count": 8,
   "metadata": {
    "collapsed": false
   },
   "outputs": [
    {
     "data": {
      "text/plain": [
       "0.4285714285714286"
      ]
     },
     "execution_count": 8,
     "metadata": {},
     "output_type": "execute_result"
    }
   ],
   "source": [
    "from sklearn.metrics import cohen_kappa_score\n",
    "y_true=[2,0,2,2,0,1]\n",
    "y_pred=[0,0,2,2,0,2]\n",
    "cohen_kappa_score(y_true,y_pred)"
   ]
  },
  {
   "cell_type": "markdown",
   "metadata": {},
   "source": [
    "### 3.3.2.4 Confusion matrix\n",
    "\n",
    "**confusion_matrix**函数通过计算混淆矩阵来评估分类的准确度。\n",
    "\n",
    "混淆矩阵中的输入i，j是观察的实际在i组中却被预测在j组中的数量。"
   ]
  },
  {
   "cell_type": "code",
   "execution_count": 9,
   "metadata": {
    "collapsed": false
   },
   "outputs": [
    {
     "data": {
      "text/plain": [
       "array([[2, 0, 0],\n",
       "       [0, 0, 1],\n",
       "       [1, 0, 2]])"
      ]
     },
     "execution_count": 9,
     "metadata": {},
     "output_type": "execute_result"
    }
   ],
   "source": [
    "from sklearn.metrics import confusion_matrix\n",
    "y_true=[2,0,2,2,0,1]\n",
    "y_pred=[0,0,2,2,0,2]\n",
    "confusion_matrix(y_true,y_pred)"
   ]
  },
  {
   "cell_type": "markdown",
   "metadata": {},
   "source": [
    "下面是这个混淆矩阵的一个可视化模型。\n",
    "![cm](http://scikit-learn.org/stable/_images/sphx_glr_plot_confusion_matrix_0011.png)\n",
    "\n",
    "对二分类问题，可以得到真反例，假正例，假反例，真正例的个数："
   ]
  },
  {
   "cell_type": "code",
   "execution_count": 11,
   "metadata": {
    "collapsed": false
   },
   "outputs": [
    {
     "data": {
      "text/plain": [
       "(2, 1, 2, 3)"
      ]
     },
     "execution_count": 11,
     "metadata": {},
     "output_type": "execute_result"
    }
   ],
   "source": [
    "y_true=[0,0,0,1,1,1,1,1]\n",
    "y_pred=[0,1,0,1,0,1,0,1]\n",
    "tn,fp,fn,tp=confusion_matrix(y_true,y_pred).ravel()\n",
    "tn,fp,fn,tp"
   ]
  },
  {
   "cell_type": "markdown",
   "metadata": {},
   "source": [
    "## 3.3.2.5 Classification report\n",
    "\n",
    "**classification_report**函数建立一个文字报告展示主分类metrics。"
   ]
  },
  {
   "cell_type": "code",
   "execution_count": 12,
   "metadata": {
    "collapsed": false
   },
   "outputs": [
    {
     "name": "stdout",
     "output_type": "stream",
     "text": [
      "             precision    recall  f1-score   support\n",
      "\n",
      "    class 0       0.67      1.00      0.80         2\n",
      "     class1       0.00      0.00      0.00         1\n",
      "     class2       1.00      0.50      0.67         2\n",
      "\n",
      "avg / total       0.67      0.60      0.59         5\n",
      "\n"
     ]
    }
   ],
   "source": [
    "from sklearn.metrics import classification_report\n",
    "y_true=[0,1,2,2,0]\n",
    "y_pred=[0,0,2,1,0]\n",
    "target_names=['class 0','class1','class2']\n",
    "print classification_report(y_true,y_pred,target_names=target_names)"
   ]
  },
  {
   "cell_type": "markdown",
   "metadata": {},
   "source": [
    "### 3.3.2.6 Hamming loss\n",
    "\n",
    "**hamming_loss**计算平均hamming损失或者两个样本集间的hamming距离。\n",
    "\n",
    "如果y^\\_j是给定样本第j个标签的预测值，y_j是对应的真实值，n_labels是类别或者标签的数量，hamming损失可定义为：\n",
    "\n",
    "![hl](http://scikit-learn.org/stable/_images/math/6a15d9b4a1ede2fbf477ef2d0c8e0308a4effde5.png)"
   ]
  },
  {
   "cell_type": "code",
   "execution_count": 13,
   "metadata": {
    "collapsed": false
   },
   "outputs": [
    {
     "data": {
      "text/plain": [
       "0.25"
      ]
     },
     "execution_count": 13,
     "metadata": {},
     "output_type": "execute_result"
    }
   ],
   "source": [
    "from sklearn.metrics import hamming_loss\n",
    "y_pred=[1,2,3,4]\n",
    "y_true=[2,2,3,4]\n",
    "hamming_loss(y_true,y_pred)"
   ]
  },
  {
   "cell_type": "markdown",
   "metadata": {},
   "source": [
    "在二分类标签指示的多标签情况下："
   ]
  },
  {
   "cell_type": "code",
   "execution_count": 14,
   "metadata": {
    "collapsed": false
   },
   "outputs": [
    {
     "data": {
      "text/plain": [
       "0.75"
      ]
     },
     "execution_count": 14,
     "metadata": {},
     "output_type": "execute_result"
    }
   ],
   "source": [
    "hamming_loss(np.array([[0,1],[1,1]]),np.zeros((2,2)))"
   ]
  },
  {
   "cell_type": "markdown",
   "metadata": {},
   "source": [
    "### 3.3.2.7 Jaccard similarity coefficient score\n",
    "\n",
    "第i个样本集，真实标签y_i集，预测标签集y^\\_i，的Jaccard相似系数定义为：\n",
    "![jsc](http://scikit-learn.org/stable/_images/math/ecdfdb71ca3b0a1ca1d6c8d90031fceb7f15337a.png)\n",
    "\n",
    "在二分和多分类中，Jaccard相似系数和分类准确度相等。"
   ]
  },
  {
   "cell_type": "code",
   "execution_count": 15,
   "metadata": {
    "collapsed": false
   },
   "outputs": [
    {
     "data": {
      "text/plain": [
       "0.5"
      ]
     },
     "execution_count": 15,
     "metadata": {},
     "output_type": "execute_result"
    }
   ],
   "source": [
    "import numpy as np\n",
    "from sklearn.metrics import jaccard_similarity_score\n",
    "y_pred=[0,2,1,3]\n",
    "y_true=[0,1,2,3]\n",
    "jaccard_similarity_score(y_true,y_pred)"
   ]
  },
  {
   "cell_type": "code",
   "execution_count": 16,
   "metadata": {
    "collapsed": false
   },
   "outputs": [
    {
     "data": {
      "text/plain": [
       "2"
      ]
     },
     "execution_count": 16,
     "metadata": {},
     "output_type": "execute_result"
    }
   ],
   "source": [
    "jaccard_similarity_score(y_true,y_pred,normalize=False)"
   ]
  },
  {
   "cell_type": "markdown",
   "metadata": {},
   "source": [
    "在二分类标签指示的多标签情况下："
   ]
  },
  {
   "cell_type": "code",
   "execution_count": 17,
   "metadata": {
    "collapsed": false
   },
   "outputs": [
    {
     "data": {
      "text/plain": [
       "0.75"
      ]
     },
     "execution_count": 17,
     "metadata": {},
     "output_type": "execute_result"
    }
   ],
   "source": [
    "jaccard_similarity_score(np.array([[0, 1], [1, 1]]), np.ones((2, 2)))"
   ]
  },
  {
   "cell_type": "markdown",
   "metadata": {},
   "source": [
    "### 3.3.2.8 Precision,recall and F-measures\n",
    "\n",
    "**查准率（precision)**:预测正例中真实正例的比重\n",
    "**查全率（recall）**：真实正例中预测正例的比重\n",
    "\n",
    "**F-measure(F_beta,F1)**是查准率和查全率的加权平均。\n",
    "\n",
    "|function|compute|\n",
    "|:-------:|:-------:|\n",
    "|**average_precision_score**(y_true, y_score[, ...])\t|Compute average precision (AP) from prediction scores|\n",
    "|**f1_score**(y_true, y_pred[, labels, ...])|\tCompute the F1 score, also known as balanced F-score or F-measure|\n",
    "|**fbeta_score**(y_true, y_pred, beta[, labels, ...])|\tCompute the F-beta score|\n",
    "|**precision_recall_curve**(y_true, probas_pred)\t|Compute precision-recall pairs for different probability thresholds|\n",
    "|**precision_recall_fscore_support**(y_true, y_pred)|\tCompute precision, recall, F-measure and support for each class|\n",
    "|**precision_score**(y_true, y_pred[, labels, ...])|\tCompute the precision|\n",
    "|**recall_score**(y_true, y_pred[, labels, ...])|\tCompute the recall|\n",
    "\n",
    "#### 3.3.2.8.1 Binary classification\n",
    "\n",
    "![ta](https://d3dr1ze7164817.cloudfront.net/items/2Y0h0p0m1F0k2D2b0e46/Image%202017-04-02%20at%202.41.36%20PM.png?X-CloudApp-Visitor-Id=2737026&v=d6c05101)\n",
    "\n",
    "![pr](http://scikit-learn.org/stable/_images/math/637351e847345d86a46a213f2fff922fc455fe08.png)\n",
    "\n",
    "![re](http://scikit-learn.org/stable/_images/math/9639aa98a3d2c0e7060c2615f43e309d2c99bc20.png)\n",
    "\n",
    "![fbeta](http://scikit-learn.org/stable/_images/math/76893efa73d77b28f765ac1ad8482d2bdbfa94c5.png)"
   ]
  },
  {
   "cell_type": "code",
   "execution_count": 18,
   "metadata": {
    "collapsed": false
   },
   "outputs": [
    {
     "data": {
      "text/plain": [
       "1.0"
      ]
     },
     "execution_count": 18,
     "metadata": {},
     "output_type": "execute_result"
    }
   ],
   "source": [
    "from sklearn import metrics\n",
    "y_pred=[0,1,0,0]\n",
    "y_true=[0,1,0,1]\n",
    "metrics.precision_score(y_true,y_pred)"
   ]
  },
  {
   "cell_type": "code",
   "execution_count": 19,
   "metadata": {
    "collapsed": false
   },
   "outputs": [
    {
     "data": {
      "text/plain": [
       "0.5"
      ]
     },
     "execution_count": 19,
     "metadata": {},
     "output_type": "execute_result"
    }
   ],
   "source": [
    "metrics.recall_score(y_true, y_pred)"
   ]
  },
  {
   "cell_type": "code",
   "execution_count": 20,
   "metadata": {
    "collapsed": false
   },
   "outputs": [
    {
     "data": {
      "text/plain": [
       "0.66666666666666663"
      ]
     },
     "execution_count": 20,
     "metadata": {},
     "output_type": "execute_result"
    }
   ],
   "source": [
    "metrics.f1_score(y_true, y_pred)"
   ]
  },
  {
   "cell_type": "code",
   "execution_count": 21,
   "metadata": {
    "collapsed": false
   },
   "outputs": [
    {
     "data": {
      "text/plain": [
       "0.83333333333333337"
      ]
     },
     "execution_count": 21,
     "metadata": {},
     "output_type": "execute_result"
    }
   ],
   "source": [
    "metrics.fbeta_score(y_true, y_pred, beta=0.5)"
   ]
  },
  {
   "cell_type": "code",
   "execution_count": 22,
   "metadata": {
    "collapsed": false
   },
   "outputs": [
    {
     "data": {
      "text/plain": [
       "0.66666666666666663"
      ]
     },
     "execution_count": 22,
     "metadata": {},
     "output_type": "execute_result"
    }
   ],
   "source": [
    "metrics.fbeta_score(y_true, y_pred, beta=1)"
   ]
  },
  {
   "cell_type": "code",
   "execution_count": 23,
   "metadata": {
    "collapsed": false
   },
   "outputs": [
    {
     "data": {
      "text/plain": [
       "(array([ 0.66666667,  1.        ]),\n",
       " array([ 1. ,  0.5]),\n",
       " array([ 0.71428571,  0.83333333]),\n",
       " array([2, 2], dtype=int64))"
      ]
     },
     "execution_count": 23,
     "metadata": {},
     "output_type": "execute_result"
    }
   ],
   "source": [
    "metrics.precision_recall_fscore_support(y_true, y_pred, beta=0.5)"
   ]
  },
  {
   "cell_type": "code",
   "execution_count": 25,
   "metadata": {
    "collapsed": false
   },
   "outputs": [
    {
     "data": {
      "text/plain": [
       "array([ 0.66666667,  0.5       ,  1.        ,  1.        ])"
      ]
     },
     "execution_count": 25,
     "metadata": {},
     "output_type": "execute_result"
    }
   ],
   "source": [
    "import numpy as np\n",
    "from sklearn.metrics import precision_recall_curve\n",
    "from sklearn.metrics import average_precision_score\n",
    "y_true=np.array([0,0,1,1])\n",
    "y_scores=np.array([0.1,0.4,0.35,0.8])\n",
    "precision,recall,threshold=precision_recall_curve(y_true,y_scores)\n",
    "precision"
   ]
  },
  {
   "cell_type": "code",
   "execution_count": 26,
   "metadata": {
    "collapsed": false
   },
   "outputs": [
    {
     "data": {
      "text/plain": [
       "array([ 1. ,  0.5,  0.5,  0. ])"
      ]
     },
     "execution_count": 26,
     "metadata": {},
     "output_type": "execute_result"
    }
   ],
   "source": [
    "recall"
   ]
  },
  {
   "cell_type": "code",
   "execution_count": 27,
   "metadata": {
    "collapsed": false
   },
   "outputs": [
    {
     "data": {
      "text/plain": [
       "array([ 0.35,  0.4 ,  0.8 ])"
      ]
     },
     "execution_count": 27,
     "metadata": {},
     "output_type": "execute_result"
    }
   ],
   "source": [
    "threshold"
   ]
  },
  {
   "cell_type": "code",
   "execution_count": 28,
   "metadata": {
    "collapsed": false
   },
   "outputs": [
    {
     "data": {
      "text/plain": [
       "0.79166666666666663"
      ]
     },
     "execution_count": 28,
     "metadata": {},
     "output_type": "execute_result"
    }
   ],
   "source": [
    "average_precision_score(y_true,y_scores)"
   ]
  },
  {
   "cell_type": "markdown",
   "metadata": {},
   "source": [
    "### 3.3.2.9 Hinge loss\n",
    "\n",
    "如果标签被编码为正负1，y是真实值，w是决策函数，则：\n",
    "![hl](http://scikit-learn.org/stable/_images/math/18b27be9c519c22dfb55f3a65dcde38245397824.png)\n",
    "\n",
    "如果有多于两个的标签，y_w是真实标签的决策函数，y_t是其他标签的最大决策函数，则：\n",
    "![hml](http://scikit-learn.org/stable/_images/math/c781d9ee3aa41c461ca53926adbb94537a600c77.png)"
   ]
  },
  {
   "cell_type": "code",
   "execution_count": 29,
   "metadata": {
    "collapsed": false
   },
   "outputs": [
    {
     "data": {
      "text/plain": [
       "LinearSVC(C=1.0, class_weight=None, dual=True, fit_intercept=True,\n",
       "     intercept_scaling=1, loss='squared_hinge', max_iter=1000,\n",
       "     multi_class='ovr', penalty='l2', random_state=0, tol=0.0001,\n",
       "     verbose=0)"
      ]
     },
     "execution_count": 29,
     "metadata": {},
     "output_type": "execute_result"
    }
   ],
   "source": [
    "from sklearn import svm\n",
    "from sklearn.metrics import hinge_loss\n",
    "X=[[0],[1]]\n",
    "y=[-1,1]\n",
    "est=svm.LinearSVC(random_state=0)\n",
    "est.fit(X,y)"
   ]
  },
  {
   "cell_type": "code",
   "execution_count": 30,
   "metadata": {
    "collapsed": false
   },
   "outputs": [
    {
     "data": {
      "text/plain": [
       "array([-2.18177262,  2.36361684,  0.09092211])"
      ]
     },
     "execution_count": 30,
     "metadata": {},
     "output_type": "execute_result"
    }
   ],
   "source": [
    "pred_decision=est.decision_function([[-2],[3],[0.5]])\n",
    "pred_decision"
   ]
  },
  {
   "cell_type": "code",
   "execution_count": 31,
   "metadata": {
    "collapsed": false
   },
   "outputs": [
    {
     "data": {
      "text/plain": [
       "0.30302596368764928"
      ]
     },
     "execution_count": 31,
     "metadata": {},
     "output_type": "execute_result"
    }
   ],
   "source": [
    "hinge_loss([-1,1,1],pred_decision)"
   ]
  },
  {
   "cell_type": "markdown",
   "metadata": {},
   "source": [
    "### 3.3.2.10 Log loss\n",
    "\n",
    "二分类：\n",
    "![bll](http://scikit-learn.org/stable/_images/math/8ce451ce7acd5831ec645bc0007b6c6566c568f1.png)\n",
    "\n",
    "多分类问题：\n",
    "![mll](http://scikit-learn.org/stable/_images/math/8ce451ce7acd5831ec645bc0007b6c6566c568f1.png)"
   ]
  },
  {
   "cell_type": "code",
   "execution_count": 32,
   "metadata": {
    "collapsed": false
   },
   "outputs": [
    {
     "data": {
      "text/plain": [
       "0.17380733669106749"
      ]
     },
     "execution_count": 32,
     "metadata": {},
     "output_type": "execute_result"
    }
   ],
   "source": [
    "from sklearn.metrics import log_loss\n",
    "y_true=[0,0,1,1]\n",
    "y_pred=[[.9,.1],[.8,.2],[.3,.7],[.01,.99]]\n",
    "log_loss(y_true,y_pred)"
   ]
  },
  {
   "cell_type": "markdown",
   "metadata": {},
   "source": [
    "pred中[.9,.1]表示第一个样本有90%的概率是0。\n",
    "\n",
    "### 3.3.2.11 Matthews correlation coefficient\n",
    "\n",
    "检验二分类，输出1表示预测完美，0表示一般预测，-1表示垃圾预测。\n",
    "\n",
    "![mcc](http://scikit-learn.org/stable/_images/math/4fb43b97dd34c1359f59d616613af2d236ff25ee.png)"
   ]
  },
  {
   "cell_type": "code",
   "execution_count": 33,
   "metadata": {
    "collapsed": false
   },
   "outputs": [
    {
     "data": {
      "text/plain": [
       "-0.33333333333333331"
      ]
     },
     "execution_count": 33,
     "metadata": {},
     "output_type": "execute_result"
    }
   ],
   "source": [
    "from sklearn.metrics import matthews_corrcoef\n",
    "y_true=[1,1,1,-1]\n",
    "y_pred=[1,-1,1,1]\n",
    "matthews_corrcoef(y_true,y_pred)"
   ]
  },
  {
   "cell_type": "markdown",
   "metadata": {},
   "source": [
    "### Receiver operating characteristic(ROC)\n",
    "\n",
    "**roc_curve**函数计算ROC。\n",
    "\n",
    "ROC曲线的纵轴是**真正例率（True Positive Rate,TPR)**,横轴是**假正例率（False Positive Rate,FPR)。\n",
    "\n",
    "![roc](http://scikit-learn.org/stable/_images/sphx_glr_plot_roc_0011.png)\n",
    "\n",
    "**roc_auc_score**函数计算roc曲线下的面积，即**AUC**。"
   ]
  },
  {
   "cell_type": "code",
   "execution_count": 34,
   "metadata": {
    "collapsed": false
   },
   "outputs": [
    {
     "data": {
      "text/plain": [
       "0.75"
      ]
     },
     "execution_count": 34,
     "metadata": {},
     "output_type": "execute_result"
    }
   ],
   "source": [
    "import numpy as np\n",
    "from sklearn.metrics import roc_auc_score\n",
    "y_true=np.array([0,0,1,1])\n",
    "y_scores=np.array([0.1,0.4,0.35,0.8])\n",
    "roc_auc_score(y_true,y_scores)"
   ]
  },
  {
   "cell_type": "markdown",
   "metadata": {},
   "source": [
    "和子集准确度，hamming误差或者F1分数相比，ROC不需要为每个标签优化阈值。\n",
    "\n",
    "![auc](http://scikit-learn.org/stable/_images/sphx_glr_plot_roc_0021.png)\n",
    "\n",
    "### 3.3.2.13 Zero one loss\n",
    "\n",
    "**zero_one_loss**函数计算0，1分类的总和或均值。默认情况下是均值，要求总和的话，将*normalize*设为*False*。\n",
    "\n",
    "![zol](http://scikit-learn.org/stable/_images/math/99a78b8e380d522470d2a5a5a9b157d3ea141e98.png)"
   ]
  },
  {
   "cell_type": "code",
   "execution_count": 35,
   "metadata": {
    "collapsed": false
   },
   "outputs": [
    {
     "data": {
      "text/plain": [
       "0.25"
      ]
     },
     "execution_count": 35,
     "metadata": {},
     "output_type": "execute_result"
    }
   ],
   "source": [
    "from sklearn.metrics import zero_one_loss\n",
    "y_pred=[1,2,3,4]\n",
    "y_true=[2,2,3,4]\n",
    "zero_one_loss(y_true,y_pred)"
   ]
  },
  {
   "cell_type": "code",
   "execution_count": 36,
   "metadata": {
    "collapsed": false
   },
   "outputs": [
    {
     "data": {
      "text/plain": [
       "1"
      ]
     },
     "execution_count": 36,
     "metadata": {},
     "output_type": "execute_result"
    }
   ],
   "source": [
    "zero_one_loss(y_true, y_pred, normalize=False)"
   ]
  },
  {
   "cell_type": "markdown",
   "metadata": {},
   "source": [
    "在多标签情况下，当第一个标签集有错："
   ]
  },
  {
   "cell_type": "code",
   "execution_count": 37,
   "metadata": {
    "collapsed": false
   },
   "outputs": [
    {
     "data": {
      "text/plain": [
       "0.5"
      ]
     },
     "execution_count": 37,
     "metadata": {},
     "output_type": "execute_result"
    }
   ],
   "source": [
    "zero_one_loss(np.array([[0, 1], [1, 1]]), np.ones((2, 2)))"
   ]
  },
  {
   "cell_type": "code",
   "execution_count": 38,
   "metadata": {
    "collapsed": false
   },
   "outputs": [
    {
     "data": {
      "text/plain": [
       "1L"
      ]
     },
     "execution_count": 38,
     "metadata": {},
     "output_type": "execute_result"
    }
   ],
   "source": [
    "zero_one_loss(np.array([[0, 1], [1, 1]]), np.ones((2, 2)),  normalize=False)"
   ]
  },
  {
   "cell_type": "markdown",
   "metadata": {},
   "source": [
    "### 3.3.2.14 Brier score loss\n",
    "\n",
    "**brier_score_loss**函数计算二分类的Brier分数，代表可能结果的预测概率和实际输出的均方差。实际输出的1或0，但预测的概率在0到1之间。分数越低越好。\n",
    "\n",
    "![bs](http://scikit-learn.org/stable/_images/math/b07ae4679df25059236ca14d0760c0a30095c698.png)\n",
    "\n",
    "N是预测的总数，f_t是实际输出o_t的预测概率。"
   ]
  },
  {
   "cell_type": "code",
   "execution_count": 39,
   "metadata": {
    "collapsed": false
   },
   "outputs": [
    {
     "data": {
      "text/plain": [
       "0.055"
      ]
     },
     "execution_count": 39,
     "metadata": {},
     "output_type": "execute_result"
    }
   ],
   "source": [
    "import numpy as np\n",
    "from sklearn.metrics import brier_score_loss\n",
    "y_true=np.array([0,1,1,0])\n",
    "y_true_categorical=np.array(['spam','ham','ham','spam'])\n",
    "y_prob=np.array([0.1,0.9,.8,.4])\n",
    "y_pred=np.array([0,1,1,0])\n",
    "brier_score_loss(y_true,y_prob)"
   ]
  },
  {
   "cell_type": "code",
   "execution_count": 40,
   "metadata": {
    "collapsed": false
   },
   "outputs": [
    {
     "data": {
      "text/plain": [
       "0.055"
      ]
     },
     "execution_count": 40,
     "metadata": {},
     "output_type": "execute_result"
    }
   ],
   "source": [
    "brier_score_loss(y_true, 1-y_prob, pos_label=0)"
   ]
  },
  {
   "cell_type": "code",
   "execution_count": 41,
   "metadata": {
    "collapsed": false
   },
   "outputs": [
    {
     "data": {
      "text/plain": [
       "0.055"
      ]
     },
     "execution_count": 41,
     "metadata": {},
     "output_type": "execute_result"
    }
   ],
   "source": [
    "brier_score_loss(y_true_categorical, y_prob, pos_label=\"ham\")"
   ]
  },
  {
   "cell_type": "markdown",
   "metadata": {},
   "source": [
    "## 3.3.4 Regression metrics\n",
    "\n",
    "### 3.3.4.1 Explained variance score\n",
    "\n",
    "**explained_variance_score**函数计算了解释方差回归分数(explained variance regression score)。\n",
    "\n",
    "若y^是预测的目标输出，y是对应的正确目标输出，Var是方差，则解释方差如下：\n",
    "![evs](http://scikit-learn.org/stable/_images/math/494cda4d8d05a44aa9aa20de549468e4d121e04c.png)\n",
    "\n",
    "最好的分数是1.0，越低越差。"
   ]
  },
  {
   "cell_type": "code",
   "execution_count": 43,
   "metadata": {
    "collapsed": false
   },
   "outputs": [
    {
     "data": {
      "text/plain": [
       "0.95717344753747324"
      ]
     },
     "execution_count": 43,
     "metadata": {},
     "output_type": "execute_result"
    }
   ],
   "source": [
    "from sklearn.metrics import explained_variance_score\n",
    "y_true=[3,-0.5,2,7]\n",
    "y_pred=[2.5,0,2,8]\n",
    "explained_variance_score(y_true,y_pred)"
   ]
  },
  {
   "cell_type": "code",
   "execution_count": 44,
   "metadata": {
    "collapsed": false
   },
   "outputs": [
    {
     "data": {
      "text/plain": [
       "array([ 0.96774194,  1.        ])"
      ]
     },
     "execution_count": 44,
     "metadata": {},
     "output_type": "execute_result"
    }
   ],
   "source": [
    "y_true = [[0.5, 1], [-1, 1], [7, -6]]\n",
    "y_pred = [[0, 2], [-1, 2], [8, -5]]\n",
    "explained_variance_score(y_true, y_pred, multioutput='raw_values')#返回每个输出的方差"
   ]
  },
  {
   "cell_type": "code",
   "execution_count": 45,
   "metadata": {
    "collapsed": false
   },
   "outputs": [
    {
     "data": {
      "text/plain": [
       "0.99032258064516121"
      ]
     },
     "execution_count": 45,
     "metadata": {},
     "output_type": "execute_result"
    }
   ],
   "source": [
    "explained_variance_score(y_true, y_pred, multioutput=[0.3, 0.7])\n",
    "#返回每个输出方差加权之后的方差，即'raw_value'方差加权后的结果。"
   ]
  },
  {
   "cell_type": "markdown",
   "metadata": {},
   "source": [
    "### 3.3.4.2 Mean absolute error\n",
    "\n",
    "**mean_absolute_error**函数计算绝对均值误差。\n",
    "\n",
    "若y^\\_i是第i个样本预测的值，y\\_i是对应的真实值，那么n个样本的绝对均值误差(MAE)定义为：\n",
    "\n",
    "![mae](http://scikit-learn.org/stable/_images/math/c38d771fb5eb121916c06cf8c651363583d17794.png)"
   ]
  },
  {
   "cell_type": "code",
   "execution_count": 46,
   "metadata": {
    "collapsed": false
   },
   "outputs": [
    {
     "data": {
      "text/plain": [
       "0.5"
      ]
     },
     "execution_count": 46,
     "metadata": {},
     "output_type": "execute_result"
    }
   ],
   "source": [
    "from sklearn.metrics import mean_absolute_error\n",
    "y_true=[3,-0.5,2,7]\n",
    "y_pred=[2.5,0,2,8]\n",
    "mean_absolute_error(y_true,y_pred)"
   ]
  },
  {
   "cell_type": "code",
   "execution_count": 47,
   "metadata": {
    "collapsed": false
   },
   "outputs": [
    {
     "data": {
      "text/plain": [
       "0.75"
      ]
     },
     "execution_count": 47,
     "metadata": {},
     "output_type": "execute_result"
    }
   ],
   "source": [
    "y_true = [[0.5, 1], [-1, 1], [7, -6]]\n",
    "y_pred = [[0, 2], [-1, 2], [8, -5]]\n",
    "mean_absolute_error(y_true, y_pred)"
   ]
  },
  {
   "cell_type": "code",
   "execution_count": 48,
   "metadata": {
    "collapsed": false
   },
   "outputs": [
    {
     "data": {
      "text/plain": [
       "array([ 0.5,  1. ])"
      ]
     },
     "execution_count": 48,
     "metadata": {},
     "output_type": "execute_result"
    }
   ],
   "source": [
    "mean_absolute_error(y_true, y_pred, multioutput='raw_values')"
   ]
  },
  {
   "cell_type": "code",
   "execution_count": 49,
   "metadata": {
    "collapsed": false
   },
   "outputs": [
    {
     "data": {
      "text/plain": [
       "0.84999999999999998"
      ]
     },
     "execution_count": 49,
     "metadata": {},
     "output_type": "execute_result"
    }
   ],
   "source": [
    "mean_absolute_error(y_true, y_pred, multioutput=[0.3, 0.7])"
   ]
  },
  {
   "cell_type": "markdown",
   "metadata": {},
   "source": [
    "### 3.3.4.3 Mean squared error\n",
    "\n",
    "**mean_squared_error**函数计算均方差。\n",
    "\n",
    "![mse](http://scikit-learn.org/stable/_images/math/44f36557fef9b30b077b21550490a1b9a0ade154.png)"
   ]
  },
  {
   "cell_type": "code",
   "execution_count": 50,
   "metadata": {
    "collapsed": false
   },
   "outputs": [
    {
     "data": {
      "text/plain": [
       "0.375"
      ]
     },
     "execution_count": 50,
     "metadata": {},
     "output_type": "execute_result"
    }
   ],
   "source": [
    "from sklearn.metrics import mean_squared_error\n",
    "y_true = [3, -0.5, 2, 7]\n",
    "y_pred = [2.5, 0.0, 2, 8]\n",
    "mean_squared_error(y_true, y_pred)"
   ]
  },
  {
   "cell_type": "code",
   "execution_count": 51,
   "metadata": {
    "collapsed": false
   },
   "outputs": [
    {
     "data": {
      "text/plain": [
       "0.70833333333333337"
      ]
     },
     "execution_count": 51,
     "metadata": {},
     "output_type": "execute_result"
    }
   ],
   "source": [
    "y_true = [[0.5, 1], [-1, 1], [7, -6]]\n",
    "y_pred = [[0, 2], [-1, 2], [8, -5]]\n",
    "mean_squared_error(y_true, y_pred)  "
   ]
  },
  {
   "cell_type": "markdown",
   "metadata": {},
   "source": [
    "### 3.3.4.4 Median absolute error\n",
    "\n",
    "**median_absolute_error**计算所有目标和预测值差值的绝对值的中位数。不支持多个输出。\n",
    "\n",
    "![medae](http://scikit-learn.org/stable/_images/math/9252f9de0d8c2043cf34a26e6f2643a6e66540b9.png)"
   ]
  },
  {
   "cell_type": "code",
   "execution_count": 52,
   "metadata": {
    "collapsed": false
   },
   "outputs": [
    {
     "data": {
      "text/plain": [
       "0.5"
      ]
     },
     "execution_count": 52,
     "metadata": {},
     "output_type": "execute_result"
    }
   ],
   "source": [
    "from sklearn.metrics import median_absolute_error\n",
    "y_true = [3, -0.5, 2, 7]\n",
    "y_pred = [2.5, 0.0, 2, 8]\n",
    "median_absolute_error(y_true, y_pred)"
   ]
  },
  {
   "cell_type": "markdown",
   "metadata": {},
   "source": [
    "### 3.3.4.5 R^2 score,the coefficient of determination\n",
    "\n",
    "**r2_score**函数计算R^2,判定系数。提供了模型在未见的样本上能表现的多好的判断方法。最好的分数是1，可以是负数。常数模型不管输入的特征是啥，R^2分数是0。\n",
    "\n",
    "![r2](http://scikit-learn.org/stable/_images/math/bdab7d608c772b3e382e2822a73ef557c80fbca2.png)\n",
    "\n",
    "其中![ym](http://scikit-learn.org/stable/_images/math/4b4e8ee0c1363ed7f781ed3a12073cfd169e3f79.png)"
   ]
  },
  {
   "cell_type": "code",
   "execution_count": 53,
   "metadata": {
    "collapsed": false
   },
   "outputs": [
    {
     "data": {
      "text/plain": [
       "0.94860813704496794"
      ]
     },
     "execution_count": 53,
     "metadata": {},
     "output_type": "execute_result"
    }
   ],
   "source": [
    "from sklearn.metrics import r2_score\n",
    "y_true = [3, -0.5, 2, 7]\n",
    "y_pred = [2.5, 0.0, 2, 8]\n",
    "r2_score(y_true, y_pred) "
   ]
  },
  {
   "cell_type": "code",
   "execution_count": 54,
   "metadata": {
    "collapsed": false
   },
   "outputs": [
    {
     "data": {
      "text/plain": [
       "0.93825665859564167"
      ]
     },
     "execution_count": 54,
     "metadata": {},
     "output_type": "execute_result"
    }
   ],
   "source": [
    "y_true = [[0.5, 1], [-1, 1], [7, -6]]\n",
    "y_pred = [[0, 2], [-1, 2], [8, -5]]\n",
    "r2_score(y_true, y_pred, multioutput='variance_weighted')"
   ]
  },
  {
   "cell_type": "code",
   "execution_count": 55,
   "metadata": {
    "collapsed": false
   },
   "outputs": [
    {
     "data": {
      "text/plain": [
       "0.93680052666227787"
      ]
     },
     "execution_count": 55,
     "metadata": {},
     "output_type": "execute_result"
    }
   ],
   "source": [
    "y_true = [[0.5, 1], [-1, 1], [7, -6]]\n",
    "y_pred = [[0, 2], [-1, 2], [8, -5]]\n",
    "r2_score(y_true, y_pred, multioutput='uniform_average')"
   ]
  },
  {
   "cell_type": "code",
   "execution_count": 56,
   "metadata": {
    "collapsed": false
   },
   "outputs": [
    {
     "data": {
      "text/plain": [
       "array([ 0.96543779,  0.90816327])"
      ]
     },
     "execution_count": 56,
     "metadata": {},
     "output_type": "execute_result"
    }
   ],
   "source": [
    "r2_score(y_true, y_pred, multioutput='raw_values')"
   ]
  },
  {
   "cell_type": "code",
   "execution_count": 57,
   "metadata": {
    "collapsed": false
   },
   "outputs": [
    {
     "data": {
      "text/plain": [
       "0.92534562211981564"
      ]
     },
     "execution_count": 57,
     "metadata": {},
     "output_type": "execute_result"
    }
   ],
   "source": [
    "r2_score(y_true, y_pred, multioutput=[0.3, 0.7])"
   ]
  },
  {
   "cell_type": "code",
   "execution_count": null,
   "metadata": {
    "collapsed": true
   },
   "outputs": [],
   "source": []
  }
 ],
 "metadata": {
  "kernelspec": {
   "display_name": "Python [conda root]",
   "language": "python",
   "name": "conda-root-py"
  },
  "language_info": {
   "codemirror_mode": {
    "name": "ipython",
    "version": 2
   },
   "file_extension": ".py",
   "mimetype": "text/x-python",
   "name": "python",
   "nbconvert_exporter": "python",
   "pygments_lexer": "ipython2",
   "version": "2.7.12"
  }
 },
 "nbformat": 4,
 "nbformat_minor": 1
}
