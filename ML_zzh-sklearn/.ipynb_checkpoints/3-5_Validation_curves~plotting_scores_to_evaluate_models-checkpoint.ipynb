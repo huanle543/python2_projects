{
 "cells": [
  {
   "cell_type": "markdown",
   "metadata": {},
   "source": [
    "# 3.5. Validation curves: plotting scores to evaluate models\n",
    "\n",
    "## 3.5.1 Validation curve\n",
    "\n",
    "* **如果训练和验证的分数都低，欠拟合**；\n",
    "* **如果训练的分数高，验证的分数低，过拟合**；\n",
    "* **两者分数都高，厉害了**。\n",
    "\n",
    "![vc](http://scikit-learn.org/stable/_images/sphx_glr_plot_validation_curve_0011.png)\n",
    "\n",
    "## 3.5.2 Learning curve\n",
    "\n",
    "* **如果随着样本增加训练和验证的分数都收敛到一个很低的值，增加样本不会对模型训练有帮助**。\n",
    "\n",
    "如朴素贝叶斯：\n",
    "\n",
    "![nb](http://scikit-learn.org/stable/_images/sphx_glr_plot_learning_curve_0011.png)\n",
    "\n",
    "------------------------------\n",
    "\n",
    "* **如果样本最大时训练分数比验证分数大很多，那么增加样本对模型训练大部分情况都是有帮助的**。\n",
    "\n",
    "如SVM：\n",
    "\n",
    "![svm](http://scikit-learn.org/stable/_images/sphx_glr_plot_learning_curve_0021.png)"
   ]
  },
  {
   "cell_type": "code",
   "execution_count": null,
   "metadata": {
    "collapsed": true
   },
   "outputs": [],
   "source": []
  }
 ],
 "metadata": {
  "kernelspec": {
   "display_name": "Python [conda root]",
   "language": "python",
   "name": "conda-root-py"
  },
  "language_info": {
   "codemirror_mode": {
    "name": "ipython",
    "version": 2
   },
   "file_extension": ".py",
   "mimetype": "text/x-python",
   "name": "python",
   "nbconvert_exporter": "python",
   "pygments_lexer": "ipython2",
   "version": "2.7.12"
  }
 },
 "nbformat": 4,
 "nbformat_minor": 1
}
