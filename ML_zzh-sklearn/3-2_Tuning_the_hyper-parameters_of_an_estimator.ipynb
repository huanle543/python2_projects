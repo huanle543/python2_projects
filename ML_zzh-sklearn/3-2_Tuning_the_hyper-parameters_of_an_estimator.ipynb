{
 "cells": [
  {
   "cell_type": "markdown",
   "metadata": {},
   "source": [
    "# 3.2. Tuning the hyper-parameters of an estimator\n",
    "\n",
    "**超参数（hyper-parameters)**不是estimator直接学习得到的参数。在*scikit-learn*中，他们作为算法的组成参数。典型的有SVM中的*C,kernel,gamma*，Lasso中的*alpha*等。\n",
    "\n",
    "建议寻找超参数来得到最佳的交叉验证score。\n",
    "\n",
    "创建一个estimator时任何参数都可以用这个方法来优化。特别的，对于给定的estimator寻找所有的参数名字及现在的值，用\n",
    "```\n",
    "    estimator.get_params()\n",
    "```\n",
    "查找由下面几步组成：\n",
    "* estimator\n",
    "* 参数空间\n",
    "* 查找或者取样候选的方法\n",
    "* 交叉检验的方案\n",
    "* score函数\n",
    "\n",
    "有些模型允许特定高效的参数查找方法，如下。*scikit-learn*中提供两大类方法来取样查找候选：对给定值的情况，**GridSearchCV**详尽地考虑了所有参数的结合；**RandomizedSearchCV**可以从一个特定分布的参数空间中取样给定数目的候选。\n",
    "\n",
    "## 3.2.1 Exhaustive Grid Search\n",
    "\n",
    "**网格查找(Grid search)**由**GridSearchCV**从一个由参数*param_grid*指定参数值的网格穷举候选提供。例如下面的*param_grid*：\n",
    "```\n",
    "param_grid = [\n",
    "  {'C': [1, 10, 100, 1000], 'kernel': ['linear']},\n",
    "  {'C': [1, 10, 100, 1000], 'gamma': [0.001, 0.0001], 'kernel': ['rbf']},\n",
    " ]\n",
    "```\n",
    "有两个网格需要遍历：一个线性核，C取值[1,10,100,1000]；一个RBF核，C取值[1,10,100,1000]，gamma取值[0.001,0.0001]。\n",
    "\n",
    "当fit**GridSearchCV**后的estimator后，会自动得到最佳参数的结果。\n",
    "\n",
    "## 3.2.2 Randomized Parameter Optimization\n",
    "\n",
    "虽然现在网格查找时最广泛使用的参数优化方法，其他的查找方法有更多的有利特性。**RandomizedSearchCV**在参数中随机搜索。\n",
    "\n",
    "比起穷举有两个主要优点：\n",
    "* 可以独立与参数数量和可能值来选择预算\n",
    "* 添加不影响性能的参数不会降低效率\n",
    "\n",
    "## 3.2.3 Tips for parameter search\n",
    "\n",
    "### 3.2.3.1 Specifying an objective metric\n",
    "\n",
    "默认的，参数查找用estimator的score函数来评估参数设置，分类问题中用**sklearn.metrics.accuracy_score**，回归问题中用**sklearn.metrics.r2_score**。在某些应用中，其他的score函数更合适。可以用**GridSearchCV**和**RandomizedSearchCV**来指定score函数。\n",
    "\n",
    "### 3.2.3.2 复合estimator和参数空间\n",
    "\n",
    "用**Pipeline**\n",
    "\n",
    "### 3.2.3.3 模型选择\n",
    "\n",
    "### 3.2.3.4 并行\n",
    "\n",
    "### 3.2.3.5 鲁棒\n",
    "\n",
    "有些参数设置可能会在一个或多个折中失败，从而导致整个查找失败，尽管其中一些参数可以被评估。设**error_score=0**可以解决这个问题。\n",
    "\n",
    "## 3.2.4 Alternatives to brute force parameter search\n",
    "\n",
    "### 3.2.4.1 Model specific cross-validation\n",
    "\n"
   ]
  },
  {
   "cell_type": "code",
   "execution_count": null,
   "metadata": {
    "collapsed": true
   },
   "outputs": [],
   "source": []
  }
 ],
 "metadata": {
  "kernelspec": {
   "display_name": "Python [conda root]",
   "language": "python",
   "name": "conda-root-py"
  },
  "language_info": {
   "codemirror_mode": {
    "name": "ipython",
    "version": 2
   },
   "file_extension": ".py",
   "mimetype": "text/x-python",
   "name": "python",
   "nbconvert_exporter": "python",
   "pygments_lexer": "ipython2",
   "version": "2.7.12"
  }
 },
 "nbformat": 4,
 "nbformat_minor": 1
}
